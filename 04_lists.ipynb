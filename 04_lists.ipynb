#lists

#definicion
my_list = list()
my_other_list =[]  #crear listas y estan vacias

print(len(my_list))

my_list =[35, 24, 62, 52, 30, 30, 17]

print(my_list)
print(len(my_list))

my_other_list = [35, 1.77, "Andrea", "Solorzano"]

print(type(my_list))
print(type(my_other_list))


#Acceso a elementos y busqueda

print(my_other_list[0])
print(my_other_list[1])
print(my_other_list[-1])
print(my_other_list[-4]) 
print(my_list.count(30))

# print(my_other_list[4] indexError)
# print(my_other_list[-5] indexError)

print(my_other_list.index("Andrea"))


age, height, name, surname = my_other_list
print(name)

age, height, name, surname = my_other_list[2], my_other_list[1], my_other_list[0], my_other_list[3]
print(age)

#concatenacion

print(my_list + my_other_list)
#print(my_list - my_other_list)

#creacion, insercion, actualizacion y eliminacion

my_other_list.append("CECyTEM") #poner la palabra al final de la lista
print(my_other_list)

my_other_list.insert(1, "Rojo") #insertar en la poscicion 1
print(my_other_list)

my_other_list[1] = "Azul" #reemplazar lo que estaba en 1
print(my_other_list)


my_other_list.remove("Azul") # remueve el azul
print(my_other_list)

my_list.remove(30) #remove el 30
print(my_list)

print(my_list.pop()) #muestra el ultimo elemento eliminado
print(my_list)

my_pop_element = my_list.pop(2)
print(my_pop_element)
print(my_list)

del my_list[2] #toma el de la posicion 2
print(my_list)

#operaciones con listas
my_new_list = my_list.copy()

my_list.clear() #vasea la lista
print(my_list)
print(my_new_list)

my_new_list.reverse()# revierte los numeros
print(my_new_list)

my_new_list.sort()#ordenar la lista
print(my_new_list)

#sublistas

print(my_new_list[1:3]) #sublista toma el que 
                        #esta en la poscicion 1 y 3

#cambio de tipo

my_list ="hola python"
print(my_list)
print(type(my_list))
